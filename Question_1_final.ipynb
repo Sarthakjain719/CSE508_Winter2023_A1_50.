{
  "nbformat": 4,
  "nbformat_minor": 0,
  "metadata": {
    "colab": {
      "provenance": []
    },
    "kernelspec": {
      "name": "python3",
      "display_name": "Python 3"
    },
    "language_info": {
      "name": "python"
    }
  },
  "cells": [
    {
      "cell_type": "code",
      "execution_count": 14,
      "metadata": {
        "id": "ULcP599XEbmx"
      },
      "outputs": [],
      "source": [
        "import os\n",
        "os.chdir(\"/content/drive/MyDrive/IR_Assignment_data/CSE508_Winter2023_Dataset\")\n",
        "path=\"/content/drive/MyDrive/IR_Assignment_data/CSE508_Winter2023_Dataset\""
      ]
    },
    {
      "cell_type": "code",
      "source": [
        "import os\n",
        "\n",
        "folder_path = path\n",
        "\n",
        "# get a list of all the files in the folder\n",
        "files = [f for f in os.listdir(folder_path) if os.path.isfile(os.path.join(folder_path, f))]\n",
        "\n",
        "# concatenate the title and text of each file\n",
        "concatenated_text = \"\"\n",
        "\n",
        "for file in files:\n",
        "    with open(os.path.join(folder_path, file), \"r\") as f:\n",
        "        text = f.read()\n",
        "        sub1=\"<TITLE>\"\n",
        "        sub2=\"</TITLE>\"\n",
        "        sub3=\"<TEXT>\"\n",
        "        sub4=\"</TEXT>\"\n",
        "        idx1=text.find(sub1) +len(sub1)\n",
        "        idx2=text.find(sub2)\n",
        "        idx3=text.find(sub3) +len(sub2)\n",
        "        idx4=text.find(sub4)\n",
        "        title=text[idx1:idx2]\n",
        "        txt=text[idx3:idx4]\n",
        "        concatenated_text=title+\" \"+txt\n",
        "        file_name = os.path.basename(file)\n",
        "        text=text.replace(text,concatenated_text)\n",
        "    with open(file,\"w\") as f:\n",
        "          f.write(text)   \n",
        "\n",
        "for i in range(5):\n",
        " file = os.path.join(folder_path, files[i])\n",
        " with open(file, \"r\") as f:\n",
        "        text = f.read()\n",
        "        print(text) \n",
        "       \n",
        "# write the concatenated text to a new file\n",
        "# with open(\"concatenated_text.txt\", \"w\") as f:\n",
        "#     f.write(concatenated_text)\n"
      ],
      "metadata": {
        "id": "QK2emhH3F3Sj",
        "colab": {
          "base_uri": "https://localhost:8080/"
        },
        "outputId": "8167f0df-8445-4549-8103-aed42da8b461"
      },
      "execution_count": 15,
      "outputs": [
        {
          "output_type": "stream",
          "name": "stdout",
          "text": [
            "\n",
            "response of plates to a decaying and convecting randon\n",
            "pressure field .\n",
            "  following the methods of lyon, an analysis of the\n",
            "vibratory response of a plate to a random pressure\n",
            "field is given .  the pressure correlation of the random\n",
            "field is assumed to have a scale small compared to\n",
            "the plate size, to decay exponentially, and to convect\n",
            "with constant speed over the plate .  two cases are\n",
            "considered, one in which the convection speed is much\n",
            "less than the speed of free flexural waves in the plate,\n",
            "the other in which the convection speed is the same\n",
            "order as the flexural wave speed .  the mean square plate\n",
            "displacement is shown to be relatively independent\n",
            "of convection for speeds much less than the flexural\n",
            "wave speed, and to increase significantly for speeds in\n",
            "the order of the flexural wave speed .  it is shown that\n",
            "damping is usually, but not always, an effective means\n",
            "of vibration reduction .  in the case of convection\n",
            "speeds much smaller than the flexural speed, the use of\n",
            "hysteretic damping for reduction of the displacement\n",
            "response is shown to be limited by the decay of the\n",
            "assumed random pressure field .\n",
            "\n",
            "\n",
            "the laminar boundary layer equation: a method of solution\n",
            "by means of an automatic computer .\n",
            "  a method, very suitable for use with an automatic computer,\n",
            "of solving the hartree-womersley approximation to the\n",
            "incompressible boundary-layer equation is developed .\n",
            "it is based on an iterative process and the choleski method\n",
            "of solving a simultaneous set of linear algebraic equations .\n",
            "the programming of this method for an automatic computer is\n",
            "discussed .  tables of a solution of the boundary-layer\n",
            "equation in a region upstream of the separation point are\n",
            "given .  in the upstream neighbourhood of separation\n",
            "this solution is compared with goldstein's\n",
            "asymptotic solution and\n",
            "the agreement is good .\n",
            "\n",
            "\n",
            "dynamics of a dissociating gas .\n",
            "  this is a lucid introduction to the effects of dissociation\n",
            "in gas dynamics .  the problem in view is that of air flow\n",
            "past a bluff body at speeds somewhat above 2 km sec .\n",
            "thermodynamic equilibrium is assumed,. theories of near\n",
            "equilibrium for transport properties and of large departures\n",
            "from equilibrium being promised in parts 2 and 3 .\n",
            "  following a survey of the equilibrium statistical\n",
            "thermodynamics of a pure dissociating diatomic gas, a\n",
            "new model is introduced .  this /ideal dissociating gas/ is\n",
            "characterized by only three constants, the characteristic\n",
            "temperature, density and internal energy for dissociation .\n",
            "physically, it may be regarded as having its vibrational\n",
            "modes always just half excited (so that at low temperatures\n",
            "the ratio of specific heats approaches 4 3 rather\n",
            "then 7 5) .  thermodynamic properties of the ideal gas\n",
            "are derived, and the oblique shock wave relations deduced\n",
            "in the /strong-shock/ approximation (including an\n",
            "elegant relation between the principal curvatures of any\n",
            "bow shock and the subsequent vorticity) .  useful relations\n",
            "are given for the isentropic changes that take place along\n",
            "streamlines between shocks .\n",
            "  various of these results are applied to the problem\n",
            "typified by a sphere flying at high mach number .  the\n",
            "newtonian impact theory and its empirical modification\n",
            "are dismissed as lacking theoretical basis, in favor of the\n",
            "limit for large values of both mach number and density\n",
            "ratio across the shock .  it is suggested that the zero surface\n",
            "pressure sometimes predicted by the latter theory\n",
            "corresponds to separation not of the flow but of the shock\n",
            "wave from the surface .  an estimate is given for the subsequent\n",
            "shape of the shock .  finally, another approximation\n",
            "is applied to the region near the stagnation streamline\n",
            ".  the fluid is assumed incompressible, but rotational\n",
            "in accord with the shock relations,. and it is shown that a\n",
            "spherical shock corresponds to a concentric spherical body .\n",
            "the resulting surface pressure is within 1 per cent of that\n",
            "predicted by freeman's second approximation based on\n",
            "the newtonian-plus-centrifugal solution (same j. 1 (1956),\n",
            "\n",
            "\n",
            "properties of the confluent hypergeometric function .\n",
            " he confluent hypergeometric functions have proved useful in many branches\n",
            "of physics .  they have been used in such problems involving diffusion\n",
            "and sedimentation, as isotope separation and protein molecular\n",
            "weight determinations in the ultracentrifuge .  the solution of the\n",
            "equation for the velocity distribution of electrons in high frequency\n",
            "gas discharges may frequently be expressed in terms of these functions .\n",
            "the high frequency breakdown electric field may then be predicted theoretically\n",
            "for gases by the use of such solutions together with kinetic\n",
            "theory .\n",
            "this report presents some of the properties of the confluent hypergeometric\n",
            "functions together with six-figure tables of the functions .\n",
            "\n",
            "\n",
            "the production of uniform shear flow in a wind tunnel .\n",
            "  a nearly uniform shear flow was obtained in the working\n",
            "section of a wind tunnel by inserting a grid of parallel rods with\n",
            "varying spacing .\n",
            "  the function of such a grid is to impose a resistance to the\n",
            "flow, so graded across the working section as to produce a linear\n",
            "variation in the total pressure at large distances downstream\n",
            "without introducing an appreciable gradient in static pressure near\n",
            "the grid .  a method of calculating a suitable arrangement of the\n",
            "rods is described .  although this method is strictly applicable\n",
            "only to weakly sheared flows, an experiment made with a grid\n",
            "designed for a shear parameter as large as 0.45 gave results in\n",
            "close agreement with the theory .  there was no evidence from\n",
            "the experiment of any large-scale secondary flow accompanying\n",
            "the shear--a danger inherent in an empirical attempt to grade the\n",
            "resistance of the grid--nor was any tendency observed for the\n",
            "shear to decay with increasing distance from the grid .\n",
            "\n"
          ]
        }
      ]
    },
    {
      "cell_type": "code",
      "source": [
        "#for lowercase the text\n",
        "\n",
        "for file in files:\n",
        "    with open(os.path.join(folder_path, file), \"r\") as f:\n",
        "      text=f.read()\n",
        "      lower_text = text.lower()\n",
        "    with open(file,\"w\") as f:\n",
        "          f.write(lower_text)\n",
        "for i in range(5):\n",
        " file = os.path.join(folder_path, files[i])\n",
        " with open(file, \"r\") as f:\n",
        "        text = f.read()\n",
        "        print(text)\n",
        "\n",
        "                 "
      ],
      "metadata": {
        "id": "5oeUd4SpGBTK",
        "colab": {
          "base_uri": "https://localhost:8080/"
        },
        "outputId": "14ccfd2d-d998-4ac4-aede-83586913153d"
      },
      "execution_count": 16,
      "outputs": [
        {
          "output_type": "stream",
          "name": "stdout",
          "text": [
            "\n",
            "response of plates to a decaying and convecting randon\n",
            "pressure field .\n",
            "  following the methods of lyon, an analysis of the\n",
            "vibratory response of a plate to a random pressure\n",
            "field is given .  the pressure correlation of the random\n",
            "field is assumed to have a scale small compared to\n",
            "the plate size, to decay exponentially, and to convect\n",
            "with constant speed over the plate .  two cases are\n",
            "considered, one in which the convection speed is much\n",
            "less than the speed of free flexural waves in the plate,\n",
            "the other in which the convection speed is the same\n",
            "order as the flexural wave speed .  the mean square plate\n",
            "displacement is shown to be relatively independent\n",
            "of convection for speeds much less than the flexural\n",
            "wave speed, and to increase significantly for speeds in\n",
            "the order of the flexural wave speed .  it is shown that\n",
            "damping is usually, but not always, an effective means\n",
            "of vibration reduction .  in the case of convection\n",
            "speeds much smaller than the flexural speed, the use of\n",
            "hysteretic damping for reduction of the displacement\n",
            "response is shown to be limited by the decay of the\n",
            "assumed random pressure field .\n",
            "\n",
            "\n",
            "the laminar boundary layer equation: a method of solution\n",
            "by means of an automatic computer .\n",
            "  a method, very suitable for use with an automatic computer,\n",
            "of solving the hartree-womersley approximation to the\n",
            "incompressible boundary-layer equation is developed .\n",
            "it is based on an iterative process and the choleski method\n",
            "of solving a simultaneous set of linear algebraic equations .\n",
            "the programming of this method for an automatic computer is\n",
            "discussed .  tables of a solution of the boundary-layer\n",
            "equation in a region upstream of the separation point are\n",
            "given .  in the upstream neighbourhood of separation\n",
            "this solution is compared with goldstein's\n",
            "asymptotic solution and\n",
            "the agreement is good .\n",
            "\n",
            "\n",
            "dynamics of a dissociating gas .\n",
            "  this is a lucid introduction to the effects of dissociation\n",
            "in gas dynamics .  the problem in view is that of air flow\n",
            "past a bluff body at speeds somewhat above 2 km sec .\n",
            "thermodynamic equilibrium is assumed,. theories of near\n",
            "equilibrium for transport properties and of large departures\n",
            "from equilibrium being promised in parts 2 and 3 .\n",
            "  following a survey of the equilibrium statistical\n",
            "thermodynamics of a pure dissociating diatomic gas, a\n",
            "new model is introduced .  this /ideal dissociating gas/ is\n",
            "characterized by only three constants, the characteristic\n",
            "temperature, density and internal energy for dissociation .\n",
            "physically, it may be regarded as having its vibrational\n",
            "modes always just half excited (so that at low temperatures\n",
            "the ratio of specific heats approaches 4 3 rather\n",
            "then 7 5) .  thermodynamic properties of the ideal gas\n",
            "are derived, and the oblique shock wave relations deduced\n",
            "in the /strong-shock/ approximation (including an\n",
            "elegant relation between the principal curvatures of any\n",
            "bow shock and the subsequent vorticity) .  useful relations\n",
            "are given for the isentropic changes that take place along\n",
            "streamlines between shocks .\n",
            "  various of these results are applied to the problem\n",
            "typified by a sphere flying at high mach number .  the\n",
            "newtonian impact theory and its empirical modification\n",
            "are dismissed as lacking theoretical basis, in favor of the\n",
            "limit for large values of both mach number and density\n",
            "ratio across the shock .  it is suggested that the zero surface\n",
            "pressure sometimes predicted by the latter theory\n",
            "corresponds to separation not of the flow but of the shock\n",
            "wave from the surface .  an estimate is given for the subsequent\n",
            "shape of the shock .  finally, another approximation\n",
            "is applied to the region near the stagnation streamline\n",
            ".  the fluid is assumed incompressible, but rotational\n",
            "in accord with the shock relations,. and it is shown that a\n",
            "spherical shock corresponds to a concentric spherical body .\n",
            "the resulting surface pressure is within 1 per cent of that\n",
            "predicted by freeman's second approximation based on\n",
            "the newtonian-plus-centrifugal solution (same j. 1 (1956),\n",
            "\n",
            "\n",
            "properties of the confluent hypergeometric function .\n",
            " he confluent hypergeometric functions have proved useful in many branches\n",
            "of physics .  they have been used in such problems involving diffusion\n",
            "and sedimentation, as isotope separation and protein molecular\n",
            "weight determinations in the ultracentrifuge .  the solution of the\n",
            "equation for the velocity distribution of electrons in high frequency\n",
            "gas discharges may frequently be expressed in terms of these functions .\n",
            "the high frequency breakdown electric field may then be predicted theoretically\n",
            "for gases by the use of such solutions together with kinetic\n",
            "theory .\n",
            "this report presents some of the properties of the confluent hypergeometric\n",
            "functions together with six-figure tables of the functions .\n",
            "\n",
            "\n",
            "the production of uniform shear flow in a wind tunnel .\n",
            "  a nearly uniform shear flow was obtained in the working\n",
            "section of a wind tunnel by inserting a grid of parallel rods with\n",
            "varying spacing .\n",
            "  the function of such a grid is to impose a resistance to the\n",
            "flow, so graded across the working section as to produce a linear\n",
            "variation in the total pressure at large distances downstream\n",
            "without introducing an appreciable gradient in static pressure near\n",
            "the grid .  a method of calculating a suitable arrangement of the\n",
            "rods is described .  although this method is strictly applicable\n",
            "only to weakly sheared flows, an experiment made with a grid\n",
            "designed for a shear parameter as large as 0.45 gave results in\n",
            "close agreement with the theory .  there was no evidence from\n",
            "the experiment of any large-scale secondary flow accompanying\n",
            "the shear--a danger inherent in an empirical attempt to grade the\n",
            "resistance of the grid--nor was any tendency observed for the\n",
            "shear to decay with increasing distance from the grid .\n",
            "\n"
          ]
        }
      ]
    },
    {
      "cell_type": "code",
      "source": [
        "for file in files:\n",
        "    with open(os.path.join(folder_path, file), \"r\") as f :\n",
        "      text=f.read()\n",
        "      tokens = text.split()\n",
        "      text=\"\"\n",
        "\n",
        "    for r in tokens:\n",
        "      text+=r+\" \" \n",
        "    with open(file,\"w\") as f:\n",
        "      f.write(text)\n",
        "\n",
        "for i in range(5):\n",
        " file = os.path.join(folder_path, files[i])\n",
        " with open(file, \"r\") as f:\n",
        "        text = f.read()\n",
        "        print(text)      \n"
      ],
      "metadata": {
        "id": "7-Q3AK_7GG4U",
        "colab": {
          "base_uri": "https://localhost:8080/"
        },
        "outputId": "662293f5-bb2b-4272-b971-fbcdabe154e8"
      },
      "execution_count": 17,
      "outputs": [
        {
          "output_type": "stream",
          "name": "stdout",
          "text": [
            "response of plates to a decaying and convecting randon pressure field . following the methods of lyon, an analysis of the vibratory response of a plate to a random pressure field is given . the pressure correlation of the random field is assumed to have a scale small compared to the plate size, to decay exponentially, and to convect with constant speed over the plate . two cases are considered, one in which the convection speed is much less than the speed of free flexural waves in the plate, the other in which the convection speed is the same order as the flexural wave speed . the mean square plate displacement is shown to be relatively independent of convection for speeds much less than the flexural wave speed, and to increase significantly for speeds in the order of the flexural wave speed . it is shown that damping is usually, but not always, an effective means of vibration reduction . in the case of convection speeds much smaller than the flexural speed, the use of hysteretic damping for reduction of the displacement response is shown to be limited by the decay of the assumed random pressure field . \n",
            "the laminar boundary layer equation: a method of solution by means of an automatic computer . a method, very suitable for use with an automatic computer, of solving the hartree-womersley approximation to the incompressible boundary-layer equation is developed . it is based on an iterative process and the choleski method of solving a simultaneous set of linear algebraic equations . the programming of this method for an automatic computer is discussed . tables of a solution of the boundary-layer equation in a region upstream of the separation point are given . in the upstream neighbourhood of separation this solution is compared with goldstein's asymptotic solution and the agreement is good . \n",
            "dynamics of a dissociating gas . this is a lucid introduction to the effects of dissociation in gas dynamics . the problem in view is that of air flow past a bluff body at speeds somewhat above 2 km sec . thermodynamic equilibrium is assumed,. theories of near equilibrium for transport properties and of large departures from equilibrium being promised in parts 2 and 3 . following a survey of the equilibrium statistical thermodynamics of a pure dissociating diatomic gas, a new model is introduced . this /ideal dissociating gas/ is characterized by only three constants, the characteristic temperature, density and internal energy for dissociation . physically, it may be regarded as having its vibrational modes always just half excited (so that at low temperatures the ratio of specific heats approaches 4 3 rather then 7 5) . thermodynamic properties of the ideal gas are derived, and the oblique shock wave relations deduced in the /strong-shock/ approximation (including an elegant relation between the principal curvatures of any bow shock and the subsequent vorticity) . useful relations are given for the isentropic changes that take place along streamlines between shocks . various of these results are applied to the problem typified by a sphere flying at high mach number . the newtonian impact theory and its empirical modification are dismissed as lacking theoretical basis, in favor of the limit for large values of both mach number and density ratio across the shock . it is suggested that the zero surface pressure sometimes predicted by the latter theory corresponds to separation not of the flow but of the shock wave from the surface . an estimate is given for the subsequent shape of the shock . finally, another approximation is applied to the region near the stagnation streamline . the fluid is assumed incompressible, but rotational in accord with the shock relations,. and it is shown that a spherical shock corresponds to a concentric spherical body . the resulting surface pressure is within 1 per cent of that predicted by freeman's second approximation based on the newtonian-plus-centrifugal solution (same j. 1 (1956), \n",
            "properties of the confluent hypergeometric function . he confluent hypergeometric functions have proved useful in many branches of physics . they have been used in such problems involving diffusion and sedimentation, as isotope separation and protein molecular weight determinations in the ultracentrifuge . the solution of the equation for the velocity distribution of electrons in high frequency gas discharges may frequently be expressed in terms of these functions . the high frequency breakdown electric field may then be predicted theoretically for gases by the use of such solutions together with kinetic theory . this report presents some of the properties of the confluent hypergeometric functions together with six-figure tables of the functions . \n",
            "the production of uniform shear flow in a wind tunnel . a nearly uniform shear flow was obtained in the working section of a wind tunnel by inserting a grid of parallel rods with varying spacing . the function of such a grid is to impose a resistance to the flow, so graded across the working section as to produce a linear variation in the total pressure at large distances downstream without introducing an appreciable gradient in static pressure near the grid . a method of calculating a suitable arrangement of the rods is described . although this method is strictly applicable only to weakly sheared flows, an experiment made with a grid designed for a shear parameter as large as 0.45 gave results in close agreement with the theory . there was no evidence from the experiment of any large-scale secondary flow accompanying the shear--a danger inherent in an empirical attempt to grade the resistance of the grid--nor was any tendency observed for the shear to decay with increasing distance from the grid . \n"
          ]
        }
      ]
    },
    {
      "cell_type": "code",
      "source": [
        "import nltk\n",
        "nltk.download('stopwords')\n",
        "from nltk.corpus import stopwords\n",
        "stop_words = set(stopwords.words(\"english\"))\n",
        "for file in files:\n",
        "    with open(os.path.join(folder_path, file), \"r\") as f:\n",
        "      text=f.read()\n",
        "      tokens=text.split()\n",
        "      filtered_tokens = [token for token in tokens if token.lower() not in stop_words]\n",
        "      text=\" \"\n",
        "      \n",
        "    for r in filtered_tokens:\n",
        "      text+=r+\" \" \n",
        "    with open(file,\"w\") as f:\n",
        "      f.write(text) \n",
        "\n",
        "for i in range(5):\n",
        " file = os.path.join(folder_path, files[i])\n",
        " with open(file, \"r\") as f:\n",
        "        text = f.read()\n",
        "        print(text)       \n"
      ],
      "metadata": {
        "colab": {
          "base_uri": "https://localhost:8080/"
        },
        "id": "z9x48sNpHAGE",
        "outputId": "84b0b15c-5438-4183-ff36-abaed0c252e6"
      },
      "execution_count": 18,
      "outputs": [
        {
          "output_type": "stream",
          "name": "stderr",
          "text": [
            "[nltk_data] Downloading package stopwords to /root/nltk_data...\n",
            "[nltk_data]   Package stopwords is already up-to-date!\n"
          ]
        },
        {
          "output_type": "stream",
          "name": "stdout",
          "text": [
            " response plates decaying convecting randon pressure field . following methods lyon, analysis vibratory response plate random pressure field given . pressure correlation random field assumed scale small compared plate size, decay exponentially, convect constant speed plate . two cases considered, one convection speed much less speed free flexural waves plate, convection speed order flexural wave speed . mean square plate displacement shown relatively independent convection speeds much less flexural wave speed, increase significantly speeds order flexural wave speed . shown damping usually, always, effective means vibration reduction . case convection speeds much smaller flexural speed, use hysteretic damping reduction displacement response shown limited decay assumed random pressure field . \n",
            " laminar boundary layer equation: method solution means automatic computer . method, suitable use automatic computer, solving hartree-womersley approximation incompressible boundary-layer equation developed . based iterative process choleski method solving simultaneous set linear algebraic equations . programming method automatic computer discussed . tables solution boundary-layer equation region upstream separation point given . upstream neighbourhood separation solution compared goldstein's asymptotic solution agreement good . \n",
            " dynamics dissociating gas . lucid introduction effects dissociation gas dynamics . problem view air flow past bluff body speeds somewhat 2 km sec . thermodynamic equilibrium assumed,. theories near equilibrium transport properties large departures equilibrium promised parts 2 3 . following survey equilibrium statistical thermodynamics pure dissociating diatomic gas, new model introduced . /ideal dissociating gas/ characterized three constants, characteristic temperature, density internal energy dissociation . physically, may regarded vibrational modes always half excited (so low temperatures ratio specific heats approaches 4 3 rather 7 5) . thermodynamic properties ideal gas derived, oblique shock wave relations deduced /strong-shock/ approximation (including elegant relation principal curvatures bow shock subsequent vorticity) . useful relations given isentropic changes take place along streamlines shocks . various results applied problem typified sphere flying high mach number . newtonian impact theory empirical modification dismissed lacking theoretical basis, favor limit large values mach number density ratio across shock . suggested zero surface pressure sometimes predicted latter theory corresponds separation flow shock wave surface . estimate given subsequent shape shock . finally, another approximation applied region near stagnation streamline . fluid assumed incompressible, rotational accord shock relations,. shown spherical shock corresponds concentric spherical body . resulting surface pressure within 1 per cent predicted freeman's second approximation based newtonian-plus-centrifugal solution (same j. 1 (1956), \n",
            " properties confluent hypergeometric function . confluent hypergeometric functions proved useful many branches physics . used problems involving diffusion sedimentation, isotope separation protein molecular weight determinations ultracentrifuge . solution equation velocity distribution electrons high frequency gas discharges may frequently expressed terms functions . high frequency breakdown electric field may predicted theoretically gases use solutions together kinetic theory . report presents properties confluent hypergeometric functions together six-figure tables functions . \n",
            " production uniform shear flow wind tunnel . nearly uniform shear flow obtained working section wind tunnel inserting grid parallel rods varying spacing . function grid impose resistance flow, graded across working section produce linear variation total pressure large distances downstream without introducing appreciable gradient static pressure near grid . method calculating suitable arrangement rods described . although method strictly applicable weakly sheared flows, experiment made grid designed shear parameter large 0.45 gave results close agreement theory . evidence experiment large-scale secondary flow accompanying shear--a danger inherent empirical attempt grade resistance grid--nor tendency observed shear decay increasing distance grid . \n"
          ]
        }
      ]
    },
    {
      "cell_type": "code",
      "source": [
        "punc = '''!()-[]{};:'\"\\,<>./?@#$%^&*_~'''\n",
        "for file in files:\n",
        "    with open(os.path.join(folder_path, file), \"r\") as f:\n",
        "      text=f.read()\n",
        "      for ele in text:\n",
        "       if ele in punc:\n",
        "        text = text.replace(ele, \"\")\n",
        "    with open(file,\"w\") as f:\n",
        "          f.write(text)   \n",
        "\n",
        "for i in range(5):\n",
        " file = os.path.join(folder_path, files[i])\n",
        " with open(file, \"r\") as f:\n",
        "        text = f.read()\n",
        "        print(text)          "
      ],
      "metadata": {
        "id": "jJq-AIUuTWlx",
        "colab": {
          "base_uri": "https://localhost:8080/"
        },
        "outputId": "16f7e29c-a838-4366-d344-1ff83e2659d9"
      },
      "execution_count": 19,
      "outputs": [
        {
          "output_type": "stream",
          "name": "stdout",
          "text": [
            " response plates decaying convecting randon pressure field  following methods lyon analysis vibratory response plate random pressure field given  pressure correlation random field assumed scale small compared plate size decay exponentially convect constant speed plate  two cases considered one convection speed much less speed free flexural waves plate convection speed order flexural wave speed  mean square plate displacement shown relatively independent convection speeds much less flexural wave speed increase significantly speeds order flexural wave speed  shown damping usually always effective means vibration reduction  case convection speeds much smaller flexural speed use hysteretic damping reduction displacement response shown limited decay assumed random pressure field  \n",
            " laminar boundary layer equation method solution means automatic computer  method suitable use automatic computer solving hartreewomersley approximation incompressible boundarylayer equation developed  based iterative process choleski method solving simultaneous set linear algebraic equations  programming method automatic computer discussed  tables solution boundarylayer equation region upstream separation point given  upstream neighbourhood separation solution compared goldsteins asymptotic solution agreement good  \n",
            " dynamics dissociating gas  lucid introduction effects dissociation gas dynamics  problem view air flow past bluff body speeds somewhat 2 km sec  thermodynamic equilibrium assumed theories near equilibrium transport properties large departures equilibrium promised parts 2 3  following survey equilibrium statistical thermodynamics pure dissociating diatomic gas new model introduced  ideal dissociating gas characterized three constants characteristic temperature density internal energy dissociation  physically may regarded vibrational modes always half excited so low temperatures ratio specific heats approaches 4 3 rather 7 5  thermodynamic properties ideal gas derived oblique shock wave relations deduced strongshock approximation including elegant relation principal curvatures bow shock subsequent vorticity  useful relations given isentropic changes take place along streamlines shocks  various results applied problem typified sphere flying high mach number  newtonian impact theory empirical modification dismissed lacking theoretical basis favor limit large values mach number density ratio across shock  suggested zero surface pressure sometimes predicted latter theory corresponds separation flow shock wave surface  estimate given subsequent shape shock  finally another approximation applied region near stagnation streamline  fluid assumed incompressible rotational accord shock relations shown spherical shock corresponds concentric spherical body  resulting surface pressure within 1 per cent predicted freemans second approximation based newtonianpluscentrifugal solution same j 1 1956 \n",
            " properties confluent hypergeometric function  confluent hypergeometric functions proved useful many branches physics  used problems involving diffusion sedimentation isotope separation protein molecular weight determinations ultracentrifuge  solution equation velocity distribution electrons high frequency gas discharges may frequently expressed terms functions  high frequency breakdown electric field may predicted theoretically gases use solutions together kinetic theory  report presents properties confluent hypergeometric functions together sixfigure tables functions  \n",
            " production uniform shear flow wind tunnel  nearly uniform shear flow obtained working section wind tunnel inserting grid parallel rods varying spacing  function grid impose resistance flow graded across working section produce linear variation total pressure large distances downstream without introducing appreciable gradient static pressure near grid  method calculating suitable arrangement rods described  although method strictly applicable weakly sheared flows experiment made grid designed shear parameter large 045 gave results close agreement theory  evidence experiment largescale secondary flow accompanying sheara danger inherent empirical attempt grade resistance gridnor tendency observed shear decay increasing distance grid  \n"
          ]
        }
      ]
    },
    {
      "cell_type": "code",
      "source": [
        "#remove blank space token\n",
        "for file in files:\n",
        "    with open(os.path.join(folder_path, file), \"r\") as f:\n",
        "      text=f.read()\n",
        "      tokens=text.split()\n",
        "      filtered_tokens = [token for token in tokens if token.strip()]\n",
        "      filtered_text = \" \".join(filtered_tokens)\n",
        "      text=\"\"\n",
        "\n",
        "    for r in filtered_tokens:\n",
        "      text+=r+\" \" \n",
        "    with open(file,\"w\") as f:\n",
        "      f.write(text)\n",
        "\n",
        "for i in range(5):\n",
        " file = os.path.join(folder_path, files[i])\n",
        " with open(file, \"r\") as f:\n",
        "        text = f.read()\n",
        "        print(text)      \n"
      ],
      "metadata": {
        "id": "L2L8ibBWTfsY",
        "colab": {
          "base_uri": "https://localhost:8080/"
        },
        "outputId": "38d8bf31-567c-452f-8d33-b1d8b8b6c920"
      },
      "execution_count": 13,
      "outputs": [
        {
          "output_type": "stream",
          "name": "stdout",
          "text": [
            "divergence plate airfoils low aspect ratio supersonic speeds part 1 first approach theoretical investigation low aspect ratio rectangular plate wings constant thickness two assumptions made a spanwise form structural distortion known leaving chordwise distortion arbitrary b aerodynamic forces approximations supersonic linearized theory form chordwise distortion deduced differential equation representing state neutral equilibrium small displacements critical divergence speed secondly problem investigated using measured structural flexibility coefficients together theoretical aerodynamic coefficients thirdly usual series solution based rayleighritz approach discussed using assumptions first method results methods consistent indicate transonic regime = 1 critical divergence part 2 established sweeping leading edge plate airfoil constant thickness increases stability angles sweep less 30 critical conditions occur leading edge sonic angles greater 30 critical conditions occur = 1 \n",
            "stagnation temperature measurements hypersonic gun tunnel using sodiumline reversal method sodium line reversal slr method recently used measure transient temperatures 1400degreek 3000degreek range example ref6 reports measurements gun flash temperatures gun tunnel stagnation temperatures range generated flow blunt body bow shock wave gas temperature zone close stagnation value \n",
            "real gas effects flow blunt bodies hypersonic speeds hypersonic shock tunnel developed investigate aerodynamic characteristics flow bodies conditions comparable encountered ballistic missiles satellites reentering atmosphere results shock velocity 50000 ftsec shock tube portion facility presented static pressure investigations made nozzle different stagnation conditions order determine flow condition expansion process results investigation representative blunt bodies hypersonic mach numbers nozzle stagnation temperatures approximately 6000degreek presented include body pressure distributions shock wave shapes detachment distances photographs luminous gas region shock layer seen shock detachment distance smaller higher stagnation temperatures owing real gas effects hemisphere pressure distribution less predicted modified newtonian theory stagnation temperatures 50degree conehemisphere pressure distribution shock wave detachment distance appreciably affected real gas effects experimentally obtained shock wave shape approximate boundary layer flat plate correlated analytical prediction preliminary results detached shock wave produced blunt twodimensional body low density flow mach number 196 presented \n",
            "production high temperature gases shock tubes paper intended set forth aerodynamic thermodynamic calculations useful production strong shock waves experimental production strong shock waves discussed comparison experimental shock strengths theoretical calcualtions made finally preliminary results shock tube studies high temperature gases up 18000k briefly surveyed \n",
            "shocktube testing time n theoretical investigation attenuation effects shock wave conservation mass equation led explanation difference ideal theoretical test time experimentally obtained time numerical example given \n"
          ]
        }
      ]
    }
  ]
}